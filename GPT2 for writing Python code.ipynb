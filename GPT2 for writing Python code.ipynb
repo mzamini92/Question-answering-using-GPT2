{
 "cells": [
  {
   "cell_type": "markdown",
   "id": "ee58e025",
   "metadata": {},
   "source": [
    "In this Notebook we are going to explore how to finetune the GPT2 and create a Python Question answering mdoel like chatgpt. \n",
    "First we tokenize our model and preprocess our text to be formatted the way we want. then we feed it to the model and save the model. next we try using RL model to improve it and finally create a pipeline which is able to give you python code. \n",
    "Technologies that has been used:\n",
    "1. Stackoverflow dataset\n",
    "2. PyTorch\n",
    "3. GPT2 Tokenizer, LMHeadModel\n",
    "4. BERTScore\n",
    "5. Pipeline()\n",
    "6. PPOTrainer</p>\n",
    "\n",
    "\n",
    "You can download the raw data from here: [here](https://www.kaggle.com/datasets/stackoverflow/pythonquestions) \n",
    "I've included a small portion of the processed dataset in the files. So you won't need to run Preprocessing NoteBook. But if you want to use the whole dataset, you should download it and then use preprocessing and remove the limitation line. then the output is ready to rerun this model and get good results.\n",
    "P.S: You need to run all the code since running this code generates a model which is 1.0 GB and I couldnt upload because of the limitation in size."
   ]
  },
  {
   "cell_type": "code",
   "execution_count": 1,
   "id": "70ad78eb",
   "metadata": {},
   "outputs": [
    {
     "name": "stderr",
     "output_type": "stream",
     "text": [
      "[nltk_data] Downloading package punkt to /home/ssl/nltk_data...\n",
      "[nltk_data]   Package punkt is already up-to-date!\n"
     ]
    },
    {
     "data": {
      "text/plain": [
       "True"
      ]
     },
     "execution_count": 1,
     "metadata": {},
     "output_type": "execute_result"
    }
   ],
   "source": [
    "import os\n",
    "import time\n",
    "import json\n",
    "import nltk\n",
    "import torch\n",
    "import random\n",
    "import datetime\n",
    "import numpy as np\n",
    "import pandas as pd\n",
    "import seaborn as sns\n",
    "import matplotlib.pyplot as plt\n",
    "from transformers import AdamW, get_linear_schedule_with_warmup\n",
    "from transformers import GPT2LMHeadModel,  GPT2Tokenizer, GPT2Config, GPT2LMHeadModel\n",
    "from torch.utils.data import Dataset, DataLoader, random_split, RandomSampler, SequentialSampler\n",
    "torch.manual_seed(42)\n",
    "\n",
    "nltk.download('punkt')"
   ]
  },
  {
   "cell_type": "code",
   "execution_count": 2,
   "id": "7ec41a44",
   "metadata": {},
   "outputs": [
    {
     "data": {
      "text/html": [
       "<div>\n",
       "<style scoped>\n",
       "    .dataframe tbody tr th:only-of-type {\n",
       "        vertical-align: middle;\n",
       "    }\n",
       "\n",
       "    .dataframe tbody tr th {\n",
       "        vertical-align: top;\n",
       "    }\n",
       "\n",
       "    .dataframe thead th {\n",
       "        text-align: right;\n",
       "    }\n",
       "</style>\n",
       "<table border=\"1\" class=\"dataframe\">\n",
       "  <thead>\n",
       "    <tr style=\"text-align: right;\">\n",
       "      <th></th>\n",
       "      <th>answer</th>\n",
       "      <th>question</th>\n",
       "      <th>context</th>\n",
       "    </tr>\n",
       "  </thead>\n",
       "  <tbody>\n",
       "    <tr>\n",
       "      <th>0</th>\n",
       "      <td>For reference—future Python possibilities:\\nSt...</td>\n",
       "      <td>How do you express binary literals in Python?</td>\n",
       "      <td>How do you express an integer as a binary numb...</td>\n",
       "    </tr>\n",
       "    <tr>\n",
       "      <th>1</th>\n",
       "      <td>This will do what you want:\\n\\nsignum = status...</td>\n",
       "      <td>How do I treat an integer as an array of bytes...</td>\n",
       "      <td>I'm trying to decode the result of the Python ...</td>\n",
       "    </tr>\n",
       "    <tr>\n",
       "      <th>2</th>\n",
       "      <td>\\n  what is a \"Unicode string\" in Python? Does...</td>\n",
       "      <td>Unicode vs UTF-8 confusion in Python / Django?</td>\n",
       "      <td>I stumbled over this passage in the Django tut...</td>\n",
       "    </tr>\n",
       "    <tr>\n",
       "      <th>3</th>\n",
       "      <td>Use the python multiprocessing module which wi...</td>\n",
       "      <td>What's the best way to duplicate fork() in win...</td>\n",
       "      <td>How do I implement some logic that will allow ...</td>\n",
       "    </tr>\n",
       "    <tr>\n",
       "      <th>4</th>\n",
       "      <td>I think Cog does what you want.\\n</td>\n",
       "      <td>Python code generator for Visual Studio?</td>\n",
       "      <td>I had an idea, if I add a python .py file to m...</td>\n",
       "    </tr>\n",
       "  </tbody>\n",
       "</table>\n",
       "</div>"
      ],
      "text/plain": [
       "                                              answer  \\\n",
       "0  For reference—future Python possibilities:\\nSt...   \n",
       "1  This will do what you want:\\n\\nsignum = status...   \n",
       "2  \\n  what is a \"Unicode string\" in Python? Does...   \n",
       "3  Use the python multiprocessing module which wi...   \n",
       "4                  I think Cog does what you want.\\n   \n",
       "\n",
       "                                            question  \\\n",
       "0      How do you express binary literals in Python?   \n",
       "1  How do I treat an integer as an array of bytes...   \n",
       "2     Unicode vs UTF-8 confusion in Python / Django?   \n",
       "3  What's the best way to duplicate fork() in win...   \n",
       "4           Python code generator for Visual Studio?   \n",
       "\n",
       "                                             context  \n",
       "0  How do you express an integer as a binary numb...  \n",
       "1  I'm trying to decode the result of the Python ...  \n",
       "2  I stumbled over this passage in the Django tut...  \n",
       "3  How do I implement some logic that will allow ...  \n",
       "4  I had an idea, if I add a python .py file to m...  "
      ]
     },
     "execution_count": 2,
     "metadata": {},
     "output_type": "execute_result"
    }
   ],
   "source": [
    "df=pd.read_csv('data.csv')\n",
    "df.head(5)"
   ]
  },
  {
   "cell_type": "code",
   "execution_count": 3,
   "id": "b17c00a2",
   "metadata": {},
   "outputs": [
    {
     "data": {
      "text/html": [
       "<div>\n",
       "<style scoped>\n",
       "    .dataframe tbody tr th:only-of-type {\n",
       "        vertical-align: middle;\n",
       "    }\n",
       "\n",
       "    .dataframe tbody tr th {\n",
       "        vertical-align: top;\n",
       "    }\n",
       "\n",
       "    .dataframe thead th {\n",
       "        text-align: right;\n",
       "    }\n",
       "</style>\n",
       "<table border=\"1\" class=\"dataframe\">\n",
       "  <thead>\n",
       "    <tr style=\"text-align: right;\">\n",
       "      <th></th>\n",
       "      <th>answer</th>\n",
       "      <th>question</th>\n",
       "      <th>context</th>\n",
       "    </tr>\n",
       "  </thead>\n",
       "  <tbody>\n",
       "    <tr>\n",
       "      <th>0</th>\n",
       "      <td>For reference—future Python possibilities:\\nSt...</td>\n",
       "      <td>How do you express binary literals in Python?</td>\n",
       "      <td>How do you express an integer as a binary numb...</td>\n",
       "    </tr>\n",
       "    <tr>\n",
       "      <th>1</th>\n",
       "      <td>This will do what you want:\\n\\nsignum = status...</td>\n",
       "      <td>How do I treat an integer as an array of bytes...</td>\n",
       "      <td>I'm trying to decode the result of the Python ...</td>\n",
       "    </tr>\n",
       "    <tr>\n",
       "      <th>2</th>\n",
       "      <td>\\n  what is a \"Unicode string\" in Python? Does...</td>\n",
       "      <td>Unicode vs UTF-8 confusion in Python / Django?</td>\n",
       "      <td>I stumbled over this passage in the Django tut...</td>\n",
       "    </tr>\n",
       "    <tr>\n",
       "      <th>3</th>\n",
       "      <td>Use the python multiprocessing module which wi...</td>\n",
       "      <td>What's the best way to duplicate fork() in win...</td>\n",
       "      <td>How do I implement some logic that will allow ...</td>\n",
       "    </tr>\n",
       "    <tr>\n",
       "      <th>4</th>\n",
       "      <td>I think Cog does what you want.\\n</td>\n",
       "      <td>Python code generator for Visual Studio?</td>\n",
       "      <td>I had an idea, if I add a python .py file to m...</td>\n",
       "    </tr>\n",
       "  </tbody>\n",
       "</table>\n",
       "</div>"
      ],
      "text/plain": [
       "                                              answer  \\\n",
       "0  For reference—future Python possibilities:\\nSt...   \n",
       "1  This will do what you want:\\n\\nsignum = status...   \n",
       "2  \\n  what is a \"Unicode string\" in Python? Does...   \n",
       "3  Use the python multiprocessing module which wi...   \n",
       "4                  I think Cog does what you want.\\n   \n",
       "\n",
       "                                            question  \\\n",
       "0      How do you express binary literals in Python?   \n",
       "1  How do I treat an integer as an array of bytes...   \n",
       "2     Unicode vs UTF-8 confusion in Python / Django?   \n",
       "3  What's the best way to duplicate fork() in win...   \n",
       "4           Python code generator for Visual Studio?   \n",
       "\n",
       "                                             context  \n",
       "0  How do you express an integer as a binary numb...  \n",
       "1  I'm trying to decode the result of the Python ...  \n",
       "2  I stumbled over this passage in the Django tut...  \n",
       "3  How do I implement some logic that will allow ...  \n",
       "4  I had an idea, if I add a python .py file to m...  "
      ]
     },
     "execution_count": 3,
     "metadata": {},
     "output_type": "execute_result"
    }
   ],
   "source": [
    "# drop NA's\n",
    "df = df.dropna()\n",
    "df.head()"
   ]
  },
  {
   "cell_type": "code",
   "execution_count": 4,
   "id": "eb6cd714",
   "metadata": {},
   "outputs": [
    {
     "data": {
      "text/html": [
       "<div>\n",
       "<style scoped>\n",
       "    .dataframe tbody tr th:only-of-type {\n",
       "        vertical-align: middle;\n",
       "    }\n",
       "\n",
       "    .dataframe tbody tr th {\n",
       "        vertical-align: top;\n",
       "    }\n",
       "\n",
       "    .dataframe thead th {\n",
       "        text-align: right;\n",
       "    }\n",
       "</style>\n",
       "<table border=\"1\" class=\"dataframe\">\n",
       "  <thead>\n",
       "    <tr style=\"text-align: right;\">\n",
       "      <th></th>\n",
       "      <th>answer</th>\n",
       "      <th>question</th>\n",
       "      <th>context</th>\n",
       "    </tr>\n",
       "  </thead>\n",
       "  <tbody>\n",
       "    <tr>\n",
       "      <th>0</th>\n",
       "      <td>\\n[RESPONSE]For reference—future Python possib...</td>\n",
       "      <td>[WP]How do you express binary literals in Python?</td>\n",
       "      <td>How do you express an integer as a binary numb...</td>\n",
       "    </tr>\n",
       "    <tr>\n",
       "      <th>1</th>\n",
       "      <td>\\n[RESPONSE]This will do what you want:\\n\\nsig...</td>\n",
       "      <td>[WP]How do I treat an integer as an array of b...</td>\n",
       "      <td>I'm trying to decode the result of the Python ...</td>\n",
       "    </tr>\n",
       "    <tr>\n",
       "      <th>2</th>\n",
       "      <td>\\n[RESPONSE]\\n  what is a \"Unicode string\" in ...</td>\n",
       "      <td>[WP]Unicode vs UTF-8 confusion in Python / Dja...</td>\n",
       "      <td>I stumbled over this passage in the Django tut...</td>\n",
       "    </tr>\n",
       "    <tr>\n",
       "      <th>3</th>\n",
       "      <td>\\n[RESPONSE]Use the python multiprocessing mod...</td>\n",
       "      <td>[WP]What's the best way to duplicate fork() in...</td>\n",
       "      <td>How do I implement some logic that will allow ...</td>\n",
       "    </tr>\n",
       "    <tr>\n",
       "      <th>4</th>\n",
       "      <td>\\n[RESPONSE]I think Cog does what you want.\\n</td>\n",
       "      <td>[WP]Python code generator for Visual Studio?</td>\n",
       "      <td>I had an idea, if I add a python .py file to m...</td>\n",
       "    </tr>\n",
       "  </tbody>\n",
       "</table>\n",
       "</div>"
      ],
      "text/plain": [
       "                                              answer  \\\n",
       "0  \\n[RESPONSE]For reference—future Python possib...   \n",
       "1  \\n[RESPONSE]This will do what you want:\\n\\nsig...   \n",
       "2  \\n[RESPONSE]\\n  what is a \"Unicode string\" in ...   \n",
       "3  \\n[RESPONSE]Use the python multiprocessing mod...   \n",
       "4      \\n[RESPONSE]I think Cog does what you want.\\n   \n",
       "\n",
       "                                            question  \\\n",
       "0  [WP]How do you express binary literals in Python?   \n",
       "1  [WP]How do I treat an integer as an array of b...   \n",
       "2  [WP]Unicode vs UTF-8 confusion in Python / Dja...   \n",
       "3  [WP]What's the best way to duplicate fork() in...   \n",
       "4       [WP]Python code generator for Visual Studio?   \n",
       "\n",
       "                                             context  \n",
       "0  How do you express an integer as a binary numb...  \n",
       "1  I'm trying to decode the result of the Python ...  \n",
       "2  I stumbled over this passage in the Django tut...  \n",
       "3  How do I implement some logic that will allow ...  \n",
       "4  I had an idea, if I add a python .py file to m...  "
      ]
     },
     "execution_count": 4,
     "metadata": {},
     "output_type": "execute_result"
    }
   ],
   "source": [
    "# Add marks for original promp and repsonse marks\n",
    "df['question'] = '[WP]' + df['question'] # + '?'\n",
    "df['answer'] = '\\n[RESPONSE]' + df['answer']\n",
    "df.head()"
   ]
  },
  {
   "cell_type": "code",
   "execution_count": 5,
   "id": "54dc9482",
   "metadata": {},
   "outputs": [
    {
     "data": {
      "text/plain": [
       "0    [WP]How do you express binary literals in Pyth...\n",
       "1    [WP]How do I treat an integer as an array of b...\n",
       "2    [WP]Unicode vs UTF-8 confusion in Python / Dja...\n",
       "3    [WP]What's the best way to duplicate fork() in...\n",
       "4    [WP]Python code generator for Visual Studio?\\n...\n",
       "dtype: object"
      ]
     },
     "execution_count": 5,
     "metadata": {},
     "output_type": "execute_result"
    }
   ],
   "source": [
    "# merge just question and answer into one\n",
    "howtos = df[\"question\"] + df[\"answer\"] \n",
    "howtos.head()"
   ]
  },
  {
   "cell_type": "code",
   "execution_count": 6,
   "id": "f2f6abc3",
   "metadata": {},
   "outputs": [
    {
     "data": {
      "text/plain": [
       "0       [WP]How do you express binary literals in Pyth...\n",
       "1       [WP]How do I treat an integer as an array of b...\n",
       "2       [WP]Unicode vs UTF-8 confusion in Python / Dja...\n",
       "3       [WP]What's the best way to duplicate fork() in...\n",
       "4       [WP]Python code generator for Visual Studio?\\n...\n",
       "                              ...                        \n",
       "5454    [WP]How can i solve this regular expression, P...\n",
       "5455    [WP]is_max = s == s.max() | How should I read ...\n",
       "5456    [WP]How two recursion function in program work...\n",
       "5457    [WP]Pandas: How to conditionally assign multip...\n",
       "5458    [WP]How to use a dict to subset a DataFrame?\\n...\n",
       "Length: 5459, dtype: object"
      ]
     },
     "execution_count": 6,
     "metadata": {},
     "output_type": "execute_result"
    }
   ],
   "source": [
    "# clean up by removing certain characters or patterns that may cause issues downstream\n",
    "howtos.str.replace('\"', '').str.replace('\\n,\\n', '').str.replace('``', '').str.replace(',,', ',')"
   ]
  },
  {
   "cell_type": "code",
   "execution_count": 7,
   "id": "97d70ceb",
   "metadata": {},
   "outputs": [
    {
     "name": "stderr",
     "output_type": "stream",
     "text": [
      "/home/ssl/miniconda3/envs/cuda_tf2/lib/python3.7/site-packages/ipykernel_launcher.py:13: UserWarning: \n",
      "\n",
      "`distplot` is a deprecated function and will be removed in seaborn v0.14.0.\n",
      "\n",
      "Please adapt your code to use either `displot` (a figure-level function with\n",
      "similar flexibility) or `histplot` (an axes-level function for histograms).\n",
      "\n",
      "For a guide to updating your code to use the new functions, please see\n",
      "https://gist.github.com/mwaskom/de44147ed2974457ad6372750bbe5751\n",
      "\n",
      "  del sys.path[0]\n"
     ]
    },
    {
     "data": {
      "text/plain": [
       "<AxesSubplot:ylabel='Density'>"
      ]
     },
     "execution_count": 7,
     "metadata": {},
     "output_type": "execute_result"
    },
    {
     "data": {
      "image/png": "[encoded data removed]",
      "text/plain": [
       "<Figure size 640x480 with 1 Axes>"
      ]
     },
     "metadata": {},
     "output_type": "display_data"
    }
   ],
   "source": [
    "# check distribution of the answers' length\n",
    "doc_lengths = []\n",
    "\n",
    "for howto in howtos:\n",
    "\n",
    "    # get rough token count distribution\n",
    "    tokens = nltk.word_tokenize(howto)\n",
    "\n",
    "    doc_lengths.append(len(tokens))\n",
    "\n",
    "doc_lengths = np.array(doc_lengths)\n",
    "\n",
    "sns.distplot(doc_lengths)"
   ]
  },
  {
   "cell_type": "code",
   "execution_count": 8,
   "id": "831c9429",
   "metadata": {},
   "outputs": [
    {
     "data": {
      "text/plain": [
       "0.4680344385418575"
      ]
     },
     "execution_count": 8,
     "metadata": {},
     "output_type": "execute_result"
    }
   ],
   "source": [
    "# The distribution of answers with the length of more than 128\n",
    "len(doc_lengths[doc_lengths > 128])/len(doc_lengths)"
   ]
  },
  {
   "cell_type": "code",
   "execution_count": 9,
   "id": "dde20559",
   "metadata": {},
   "outputs": [
    {
     "data": {
      "text/plain": [
       "172.86334493496977"
      ]
     },
     "execution_count": 9,
     "metadata": {},
     "output_type": "execute_result"
    }
   ],
   "source": [
    "np.average(doc_lengths)"
   ]
  },
  {
   "cell_type": "code",
   "execution_count": 10,
   "id": "04ce2135",
   "metadata": {},
   "outputs": [
    {
     "name": "stderr",
     "output_type": "stream",
     "text": [
      "Special tokens have been added in the vocabulary, make sure the associated word embeddings are fine-tuned or trained.\n"
     ]
    }
   ],
   "source": [
    "# Load the GPT tokenizer and add special tokens.\n",
    "tokenizer = GPT2Tokenizer.from_pretrained('gpt2', \n",
    "                                          bos_token='<|startoftext|>', \n",
    "                                          eos_token='<|endoftext|>', \n",
    "                                          pad_token='<|pad|>')"
   ]
  },
  {
   "cell_type": "code",
   "execution_count": 11,
   "id": "f96f2fc2",
   "metadata": {},
   "outputs": [],
   "source": [
    "batch_size = 4"
   ]
  },
  {
   "cell_type": "markdown",
   "id": "7968530f",
   "metadata": {},
   "source": [
    "Defining a PyTorch dataset class called GPT2Dataset that prepares text data for use with a GPT-2 language model"
   ]
  },
  {
   "cell_type": "code",
   "execution_count": 12,
   "id": "0fb98bd9",
   "metadata": {},
   "outputs": [],
   "source": [
    "class GPT2Dataset(Dataset):\n",
    "    # Define the class constructor method\n",
    "    def __init__(self, txt_list, tokenizer, gpt2_type=\"gpt2\", max_length=512):\n",
    "        \n",
    "        # Store the tokenizer and initialize the input_ids and attn_masks lists\n",
    "        self.tokenizer = tokenizer\n",
    "        self.input_ids = []\n",
    "        self.attn_masks = []\n",
    "        \n",
    "        # Iterate through each text sample in txt_list\n",
    "        for txt in txt_list:\n",
    "            \n",
    "            # Tokenize the text sample using the tokenizer and truncate it if necessary\n",
    "            text = txt\n",
    "            encodings_dict = tokenizer('<|startoftext|>'+ text + '<|endoftext|>', truncation=True, max_length=max_length, padding=\"max_length\")\n",
    "            \n",
    "            # Add the tokenized input and attention mask to their respective lists\n",
    "            self.input_ids.append(torch.tensor(encodings_dict['input_ids']))\n",
    "            self.attn_masks.append(torch.tensor(encodings_dict['attention_mask']))\n",
    "            \n",
    "    # Define the __len__ method, which returns the number of input samples in the dataset\n",
    "    def __len__(self):\n",
    "        return len(self.input_ids)\n",
    "    \n",
    "    # Define the __getitem__ method, which returns the input sample and corresponding attention mask at a given index\n",
    "    def __getitem__(self, idx):\n",
    "        return self.input_ids[idx], self.attn_masks[idx] "
   ]
  },
  {
   "cell_type": "code",
   "execution_count": 13,
   "id": "9ba905ee",
   "metadata": {},
   "outputs": [
    {
     "name": "stdout",
     "output_type": "stream",
     "text": [
      "4,367 training samples\n",
      "1,092 validation samples\n"
     ]
    }
   ],
   "source": [
    "dataset = GPT2Dataset(howtos, tokenizer, max_length=512)\n",
    "\n",
    "# Split the dataset into training and validation sets with a 80/20 split\n",
    "train_size = int(0.8 * len(dataset))\n",
    "val_size = len(dataset) - train_size\n",
    "\n",
    "train_dataset, val_dataset = random_split(dataset, [train_size, val_size])\n",
    "\n",
    "print('{:>5,} training samples'.format(train_size))\n",
    "print('{:>5,} validation samples'.format(val_size))"
   ]
  },
  {
   "cell_type": "code",
   "execution_count": 14,
   "id": "77215b04",
   "metadata": {},
   "outputs": [],
   "source": [
    "# Create a PyTorch DataLoader instance for the training set \n",
    "train_dataloader = DataLoader(\n",
    "            train_dataset,  # The training dataset\n",
    "            sampler = RandomSampler(train_dataset), # Randomly sample elements from the training dataset\n",
    "            batch_size = batch_size # The number of samples per batch to load\n",
    "        )\n",
    "\n",
    "# Create a PyTorch DataLoader instance for the validation set\n",
    "validation_dataloader = DataLoader(\n",
    "            val_dataset, # The validation dataset\n",
    "            sampler = SequentialSampler(val_dataset), # Iterate through the validation dataset sequentially\n",
    "            batch_size = batch_size # The number of samples per batch to load\n",
    "        )"
   ]
  },
  {
   "cell_type": "code",
   "execution_count": 15,
   "id": "1faf320b",
   "metadata": {},
   "outputs": [
    {
     "data": {
      "text/plain": [
       "Embedding(50259, 768)"
      ]
     },
     "execution_count": 15,
     "metadata": {},
     "output_type": "execute_result"
    }
   ],
   "source": [
    "# Load the GPT2Config from the 'gpt2' pre-trained model and set output_hidden_states to False\n",
    "configuration = GPT2Config.from_pretrained('gpt2', \n",
    "                                           output_hidden_states=False)\n",
    "# Instantiate the GPT2LMHeadModel with the 'gpt2' pre-trained weights and the configuration we just loaded\n",
    "model = GPT2LMHeadModel.from_pretrained(\"gpt2\", \n",
    "                                        config=configuration)\n",
    "\n",
    "# Resize the model's token embeddings to match the size of the tokenizer's vocabulary\n",
    "# This step is necessary if any special tokens have been added to the tokenizer\n",
    "model.resize_token_embeddings(len(tokenizer))"
   ]
  },
  {
   "cell_type": "code",
   "execution_count": 16,
   "id": "6a000aaa",
   "metadata": {},
   "outputs": [],
   "source": [
    "# Tell pytorch to run this model on the GPU.\n",
    "device = torch.device(\"cuda\")\n",
    "model.cuda()\n",
    "\n",
    "# Set the seed value all over the place to make this reproducible.\n",
    "seed_val = 42\n",
    "\n",
    "# Set the random seed for the Python built-in `random` module.\n",
    "random.seed(seed_val)\n",
    "np.random.seed(seed_val)\n",
    "\n",
    "# Set the random seed for PyTorch to ensure reproducibility on the GPU.\n",
    "torch.manual_seed(seed_val)\n",
    "torch.cuda.manual_seed_all(seed_val)"
   ]
  },
  {
   "cell_type": "code",
   "execution_count": 17,
   "id": "35220999",
   "metadata": {},
   "outputs": [],
   "source": [
    "epochs = 2\n",
    "learning_rate = 3e-4\n",
    "warmup_steps = 1e2\n",
    "epsilon = 1e-5\n",
    "check_path = './checkpoints'\n",
    "sample_every = 100"
   ]
  },
  {
   "cell_type": "code",
   "execution_count": 18,
   "id": "b95b4b24",
   "metadata": {},
   "outputs": [],
   "source": [
    "import torch.optim as optim\n",
    "\n",
    "# Define the optimizer to use.\n",
    "# We're using the AdamW optimizer with the given learning rate, epsilon, and weight decay.\n",
    "# We're passing the model's parameters to the optimizer so that it can update them during training.\n",
    "optimizer = optim.AdamW(model.parameters(),\n",
    "                        lr=learning_rate,\n",
    "                        eps=epsilon,\n",
    "                       weight_decay = 0.01)"
   ]
  },
  {
   "cell_type": "code",
   "execution_count": 19,
   "id": "39716289",
   "metadata": {},
   "outputs": [],
   "source": [
    "# Calculate the total number of training steps.\n",
    "# This is the number of batches in the training data multiplied by the number of epochs.\n",
    "total_steps = len(train_dataloader) * epochs\n",
    "\n",
    "# Set up the learning rate scheduler.\n",
    "# We're using the linear scheduler with warmup, which increases the learning rate\n",
    "# linearly from 0 to the initial learning rate over the first few training steps\n",
    "# (the warmup steps), and then decreases the learning rate linearly to zero over\n",
    "# the remaining training steps.\n",
    "scheduler = get_linear_schedule_with_warmup(optimizer, \n",
    "                                            num_warmup_steps = warmup_steps, \n",
    "                                            num_training_steps = total_steps)"
   ]
  },
  {
   "cell_type": "code",
   "execution_count": 20,
   "id": "cc40a577",
   "metadata": {},
   "outputs": [],
   "source": [
    "def format_time(elapsed):\n",
    "    return str(datetime.timedelta(seconds=int(round((elapsed)))))"
   ]
  },
  {
   "cell_type": "code",
   "execution_count": 21,
   "id": "e08426d7",
   "metadata": {},
   "outputs": [],
   "source": [
    "# Release all unused memory that is held by the GPU memory cache\n",
    "torch.cuda.empty_cache()"
   ]
  },
  {
   "cell_type": "code",
   "execution_count": 22,
   "id": "24c50cb1",
   "metadata": {
    "scrolled": true
   },
   "outputs": [
    {
     "name": "stdout",
     "output_type": "stream",
     "text": [
      "\n",
      "======== Epoch 1 / 2 ========\n",
      "Training...\n",
      "\n",
      "  Average training loss: 1.52\n",
      "  Training epoch took: 0:03:45\n",
      "\n",
      "Running Validation...\n",
      "  Validation Loss: 1.06\n",
      "  Validation took: 0:00:14\n",
      "\n",
      "======== Epoch 2 / 2 ========\n",
      "Training...\n"
     ]
    },
    {
     "ename": "KeyboardInterrupt",
     "evalue": "",
     "output_type": "error",
     "traceback": [
      "\u001b[0;31m---------------------------------------------------------------------------\u001b[0m",
      "\u001b[0;31mKeyboardInterrupt\u001b[0m                         Traceback (most recent call last)",
      "\u001b[0;32m/tmp/ipykernel_3431662/1494300529.py\u001b[0m in \u001b[0;36m<module>\u001b[0;34m\u001b[0m\n\u001b[1;32m     74\u001b[0m         \u001b[0;31m# Backpropagate the loss and update the model parameters.\u001b[0m\u001b[0;34m\u001b[0m\u001b[0;34m\u001b[0m\u001b[0;34m\u001b[0m\u001b[0m\n\u001b[1;32m     75\u001b[0m         \u001b[0mloss\u001b[0m\u001b[0;34m.\u001b[0m\u001b[0mbackward\u001b[0m\u001b[0;34m(\u001b[0m\u001b[0;34m)\u001b[0m\u001b[0;34m\u001b[0m\u001b[0;34m\u001b[0m\u001b[0m\n\u001b[0;32m---> 76\u001b[0;31m         \u001b[0moptimizer\u001b[0m\u001b[0;34m.\u001b[0m\u001b[0mstep\u001b[0m\u001b[0;34m(\u001b[0m\u001b[0;34m)\u001b[0m\u001b[0;34m\u001b[0m\u001b[0;34m\u001b[0m\u001b[0m\n\u001b[0m\u001b[1;32m     77\u001b[0m \u001b[0;34m\u001b[0m\u001b[0m\n\u001b[1;32m     78\u001b[0m         \u001b[0;31m# Update the learning rate scheduler.\u001b[0m\u001b[0;34m\u001b[0m\u001b[0;34m\u001b[0m\u001b[0;34m\u001b[0m\u001b[0m\n",
      "\u001b[0;32m~/miniconda3/envs/cuda_tf2/lib/python3.7/site-packages/torch/optim/lr_scheduler.py\u001b[0m in \u001b[0;36mwrapper\u001b[0;34m(*args, **kwargs)\u001b[0m\n\u001b[1;32m     66\u001b[0m                 \u001b[0minstance\u001b[0m\u001b[0;34m.\u001b[0m\u001b[0m_step_count\u001b[0m \u001b[0;34m+=\u001b[0m \u001b[0;36m1\u001b[0m\u001b[0;34m\u001b[0m\u001b[0;34m\u001b[0m\u001b[0m\n\u001b[1;32m     67\u001b[0m                 \u001b[0mwrapped\u001b[0m \u001b[0;34m=\u001b[0m \u001b[0mfunc\u001b[0m\u001b[0;34m.\u001b[0m\u001b[0m__get__\u001b[0m\u001b[0;34m(\u001b[0m\u001b[0minstance\u001b[0m\u001b[0;34m,\u001b[0m \u001b[0mcls\u001b[0m\u001b[0;34m)\u001b[0m\u001b[0;34m\u001b[0m\u001b[0;34m\u001b[0m\u001b[0m\n\u001b[0;32m---> 68\u001b[0;31m                 \u001b[0;32mreturn\u001b[0m \u001b[0mwrapped\u001b[0m\u001b[0;34m(\u001b[0m\u001b[0;34m*\u001b[0m\u001b[0margs\u001b[0m\u001b[0;34m,\u001b[0m \u001b[0;34m**\u001b[0m\u001b[0mkwargs\u001b[0m\u001b[0;34m)\u001b[0m\u001b[0;34m\u001b[0m\u001b[0;34m\u001b[0m\u001b[0m\n\u001b[0m\u001b[1;32m     69\u001b[0m \u001b[0;34m\u001b[0m\u001b[0m\n\u001b[1;32m     70\u001b[0m             \u001b[0;31m# Note that the returned function here is no longer a bound method,\u001b[0m\u001b[0;34m\u001b[0m\u001b[0;34m\u001b[0m\u001b[0;34m\u001b[0m\u001b[0m\n",
      "\u001b[0;32m~/miniconda3/envs/cuda_tf2/lib/python3.7/site-packages/torch/optim/optimizer.py\u001b[0m in \u001b[0;36mwrapper\u001b[0;34m(*args, **kwargs)\u001b[0m\n\u001b[1;32m    138\u001b[0m                 \u001b[0mprofile_name\u001b[0m \u001b[0;34m=\u001b[0m \u001b[0;34m\"Optimizer.step#{}.step\"\u001b[0m\u001b[0;34m.\u001b[0m\u001b[0mformat\u001b[0m\u001b[0;34m(\u001b[0m\u001b[0mobj\u001b[0m\u001b[0;34m.\u001b[0m\u001b[0m__class__\u001b[0m\u001b[0;34m.\u001b[0m\u001b[0m__name__\u001b[0m\u001b[0;34m)\u001b[0m\u001b[0;34m\u001b[0m\u001b[0;34m\u001b[0m\u001b[0m\n\u001b[1;32m    139\u001b[0m                 \u001b[0;32mwith\u001b[0m \u001b[0mtorch\u001b[0m\u001b[0;34m.\u001b[0m\u001b[0mautograd\u001b[0m\u001b[0;34m.\u001b[0m\u001b[0mprofiler\u001b[0m\u001b[0;34m.\u001b[0m\u001b[0mrecord_function\u001b[0m\u001b[0;34m(\u001b[0m\u001b[0mprofile_name\u001b[0m\u001b[0;34m)\u001b[0m\u001b[0;34m:\u001b[0m\u001b[0;34m\u001b[0m\u001b[0;34m\u001b[0m\u001b[0m\n\u001b[0;32m--> 140\u001b[0;31m                     \u001b[0mout\u001b[0m \u001b[0;34m=\u001b[0m \u001b[0mfunc\u001b[0m\u001b[0;34m(\u001b[0m\u001b[0;34m*\u001b[0m\u001b[0margs\u001b[0m\u001b[0;34m,\u001b[0m \u001b[0;34m**\u001b[0m\u001b[0mkwargs\u001b[0m\u001b[0;34m)\u001b[0m\u001b[0;34m\u001b[0m\u001b[0;34m\u001b[0m\u001b[0m\n\u001b[0m\u001b[1;32m    141\u001b[0m                     \u001b[0mobj\u001b[0m\u001b[0;34m.\u001b[0m\u001b[0m_optimizer_step_code\u001b[0m\u001b[0;34m(\u001b[0m\u001b[0;34m)\u001b[0m\u001b[0;34m\u001b[0m\u001b[0;34m\u001b[0m\u001b[0m\n\u001b[1;32m    142\u001b[0m                     \u001b[0;32mreturn\u001b[0m \u001b[0mout\u001b[0m\u001b[0;34m\u001b[0m\u001b[0;34m\u001b[0m\u001b[0m\n",
      "\u001b[0;32m~/miniconda3/envs/cuda_tf2/lib/python3.7/site-packages/torch/autograd/grad_mode.py\u001b[0m in \u001b[0;36mdecorate_context\u001b[0;34m(*args, **kwargs)\u001b[0m\n\u001b[1;32m     25\u001b[0m         \u001b[0;32mdef\u001b[0m \u001b[0mdecorate_context\u001b[0m\u001b[0;34m(\u001b[0m\u001b[0;34m*\u001b[0m\u001b[0margs\u001b[0m\u001b[0;34m,\u001b[0m \u001b[0;34m**\u001b[0m\u001b[0mkwargs\u001b[0m\u001b[0;34m)\u001b[0m\u001b[0;34m:\u001b[0m\u001b[0;34m\u001b[0m\u001b[0;34m\u001b[0m\u001b[0m\n\u001b[1;32m     26\u001b[0m             \u001b[0;32mwith\u001b[0m \u001b[0mself\u001b[0m\u001b[0;34m.\u001b[0m\u001b[0mclone\u001b[0m\u001b[0;34m(\u001b[0m\u001b[0;34m)\u001b[0m\u001b[0;34m:\u001b[0m\u001b[0;34m\u001b[0m\u001b[0;34m\u001b[0m\u001b[0m\n\u001b[0;32m---> 27\u001b[0;31m                 \u001b[0;32mreturn\u001b[0m \u001b[0mfunc\u001b[0m\u001b[0;34m(\u001b[0m\u001b[0;34m*\u001b[0m\u001b[0margs\u001b[0m\u001b[0;34m,\u001b[0m \u001b[0;34m**\u001b[0m\u001b[0mkwargs\u001b[0m\u001b[0;34m)\u001b[0m\u001b[0;34m\u001b[0m\u001b[0;34m\u001b[0m\u001b[0m\n\u001b[0m\u001b[1;32m     28\u001b[0m         \u001b[0;32mreturn\u001b[0m \u001b[0mcast\u001b[0m\u001b[0;34m(\u001b[0m\u001b[0mF\u001b[0m\u001b[0;34m,\u001b[0m \u001b[0mdecorate_context\u001b[0m\u001b[0;34m)\u001b[0m\u001b[0;34m\u001b[0m\u001b[0;34m\u001b[0m\u001b[0m\n\u001b[1;32m     29\u001b[0m \u001b[0;34m\u001b[0m\u001b[0m\n",
      "\u001b[0;32m~/miniconda3/envs/cuda_tf2/lib/python3.7/site-packages/torch/optim/adamw.py\u001b[0m in \u001b[0;36mstep\u001b[0;34m(self, closure)\u001b[0m\n\u001b[1;32m    174\u001b[0m                   \u001b[0mmaximize\u001b[0m\u001b[0;34m=\u001b[0m\u001b[0mgroup\u001b[0m\u001b[0;34m[\u001b[0m\u001b[0;34m'maximize'\u001b[0m\u001b[0;34m]\u001b[0m\u001b[0;34m,\u001b[0m\u001b[0;34m\u001b[0m\u001b[0;34m\u001b[0m\u001b[0m\n\u001b[1;32m    175\u001b[0m                   \u001b[0mforeach\u001b[0m\u001b[0;34m=\u001b[0m\u001b[0mgroup\u001b[0m\u001b[0;34m[\u001b[0m\u001b[0;34m'foreach'\u001b[0m\u001b[0;34m]\u001b[0m\u001b[0;34m,\u001b[0m\u001b[0;34m\u001b[0m\u001b[0;34m\u001b[0m\u001b[0m\n\u001b[0;32m--> 176\u001b[0;31m                   capturable=group['capturable'])\n\u001b[0m\u001b[1;32m    177\u001b[0m \u001b[0;34m\u001b[0m\u001b[0m\n\u001b[1;32m    178\u001b[0m         \u001b[0;32mreturn\u001b[0m \u001b[0mloss\u001b[0m\u001b[0;34m\u001b[0m\u001b[0;34m\u001b[0m\u001b[0m\n",
      "\u001b[0;32m~/miniconda3/envs/cuda_tf2/lib/python3.7/site-packages/torch/optim/adamw.py\u001b[0m in \u001b[0;36madamw\u001b[0;34m(params, grads, exp_avgs, exp_avg_sqs, max_exp_avg_sqs, state_steps, foreach, capturable, amsgrad, beta1, beta2, lr, weight_decay, eps, maximize)\u001b[0m\n\u001b[1;32m    230\u001b[0m          \u001b[0meps\u001b[0m\u001b[0;34m=\u001b[0m\u001b[0meps\u001b[0m\u001b[0;34m,\u001b[0m\u001b[0;34m\u001b[0m\u001b[0;34m\u001b[0m\u001b[0m\n\u001b[1;32m    231\u001b[0m          \u001b[0mmaximize\u001b[0m\u001b[0;34m=\u001b[0m\u001b[0mmaximize\u001b[0m\u001b[0;34m,\u001b[0m\u001b[0;34m\u001b[0m\u001b[0;34m\u001b[0m\u001b[0m\n\u001b[0;32m--> 232\u001b[0;31m          capturable=capturable)\n\u001b[0m\u001b[1;32m    233\u001b[0m \u001b[0;34m\u001b[0m\u001b[0m\n\u001b[1;32m    234\u001b[0m \u001b[0;34m\u001b[0m\u001b[0m\n",
      "\u001b[0;32m~/miniconda3/envs/cuda_tf2/lib/python3.7/site-packages/torch/optim/adamw.py\u001b[0m in \u001b[0;36m_single_tensor_adamw\u001b[0;34m(params, grads, exp_avgs, exp_avg_sqs, max_exp_avg_sqs, state_steps, amsgrad, beta1, beta2, lr, weight_decay, eps, maximize, capturable)\u001b[0m\n\u001b[1;32m    268\u001b[0m \u001b[0;34m\u001b[0m\u001b[0m\n\u001b[1;32m    269\u001b[0m         \u001b[0;31m# Perform stepweight decay\u001b[0m\u001b[0;34m\u001b[0m\u001b[0;34m\u001b[0m\u001b[0;34m\u001b[0m\u001b[0m\n\u001b[0;32m--> 270\u001b[0;31m         \u001b[0mparam\u001b[0m\u001b[0;34m.\u001b[0m\u001b[0mmul_\u001b[0m\u001b[0;34m(\u001b[0m\u001b[0;36m1\u001b[0m \u001b[0;34m-\u001b[0m \u001b[0mlr\u001b[0m \u001b[0;34m*\u001b[0m \u001b[0mweight_decay\u001b[0m\u001b[0;34m)\u001b[0m\u001b[0;34m\u001b[0m\u001b[0;34m\u001b[0m\u001b[0m\n\u001b[0m\u001b[1;32m    271\u001b[0m \u001b[0;34m\u001b[0m\u001b[0m\n\u001b[1;32m    272\u001b[0m         \u001b[0;31m# Decay the first and second moment running average coefficient\u001b[0m\u001b[0;34m\u001b[0m\u001b[0;34m\u001b[0m\u001b[0;34m\u001b[0m\u001b[0m\n",
      "\u001b[0;31mKeyboardInterrupt\u001b[0m: "
     ]
    }
   ],
   "source": [
    "total_t0 = time.time()\n",
    "\n",
    "training_stats = []\n",
    "\n",
    "model = model.to(device)\n",
    "\n",
    "for epoch_i in range(0, epochs):\n",
    "\n",
    "    # ========================================\n",
    "    #               Training\n",
    "    # ========================================\n",
    "\n",
    "    print(\"\")\n",
    "    print('======== Epoch {:} / {:} ========'.format(epoch_i + 1, epochs))\n",
    "    print('Training...')\n",
    "\n",
    "    # Record the start time of the epoch.\n",
    "    t0 = time.time()\n",
    "\n",
    "    # Reset the total loss for this epoch.\n",
    "    total_train_loss = 0\n",
    "\n",
    "    # Put the model into training mode.\n",
    "    model.train()\n",
    "\n",
    "    # Loop over each batch of training data.\n",
    "    for step, batch in enumerate(train_dataloader):\n",
    "\n",
    "        # Get the input IDs, attention masks, and labels for this batch,\n",
    "        # and move them to the GPU if necessary.\n",
    "        b_input_ids = batch[0].to(device)\n",
    "        b_labels = batch[0].to(device)\n",
    "        b_masks = batch[1].to(device)\n",
    "\n",
    "        # Zero out any gradients that have accumulated from previous batches.\n",
    "        model.zero_grad()        \n",
    "\n",
    "        # Run this batch through the model to get the loss.\n",
    "        outputs = model(  b_input_ids,\n",
    "                          labels=b_labels, \n",
    "                          attention_mask = b_masks,\n",
    "                          token_type_ids=None\n",
    "                        )\n",
    "\n",
    "        loss = outputs[0]  \n",
    "\n",
    "        # Get the loss for this batch, and add it to the total loss for this epoch.\n",
    "        batch_loss = loss.item()\n",
    "        total_train_loss += batch_loss\n",
    "\n",
    "        # Print some generated output every `sample_every` batches.\n",
    "        if step % sample_every == 0 and not step == 0:\n",
    "            \n",
    "            # Measure how long this has taken so far.\n",
    "            elapsed = format_time(time.time() - t0)\n",
    "\n",
    "            # Put the model into evaluation mode.\n",
    "            model.eval()\n",
    "\n",
    "            # Generate some sample output from the model.\n",
    "            sample_outputs = model.generate(\n",
    "                                    bos_token_id=random.randint(1,30000),\n",
    "                                    do_sample=True,   \n",
    "                                    top_k=50, \n",
    "                                    max_length = 512,\n",
    "                                    top_p=0.95, \n",
    "                                    num_return_sequences=1,\n",
    "                                    pad_token_id=tokenizer.eos_token_id,\n",
    "                                    eos_token_id=-1,\n",
    "                                )\n",
    "            # Put the model back into training mode.\n",
    "            model.train()\n",
    "\n",
    "        # Backpropagate the loss and update the model parameters.\n",
    "        loss.backward()\n",
    "        optimizer.step()\n",
    "\n",
    "        # Update the learning rate scheduler.\n",
    "        scheduler.step()\n",
    "\n",
    "    # Calculate the average loss over all of the batches.\n",
    "    avg_train_loss = total_train_loss / len(train_dataloader)       \n",
    "    \n",
    "    # Measure how long this epoch took.\n",
    "    training_time = format_time(time.time() - t0)\n",
    "\n",
    "    print(\"\")\n",
    "    print(\"  Average training loss: {0:.2f}\".format(avg_train_loss))\n",
    "    print(\"  Training epoch took: {:}\".format(training_time))\n",
    "        \n",
    "    # ========================================\n",
    "    #               Validation\n",
    "    # ========================================\n",
    "\n",
    "    print(\"\")\n",
    "    print(\"Running Validation...\")\n",
    "    # Perform validation on the model after training for each epoch.\n",
    "    t0 = time.time()\n",
    "\n",
    "    model.eval()\n",
    "\n",
    "    total_eval_loss = 0\n",
    "    nb_eval_steps = 0\n",
    "\n",
    "    # Evaluate data for one epoch\n",
    "    for batch in validation_dataloader:\n",
    "        \n",
    "        b_input_ids = batch[0].to(device)\n",
    "        b_labels = batch[0].to(device)\n",
    "        b_masks = batch[1].to(device)\n",
    "        \n",
    "        with torch.no_grad():        \n",
    "\n",
    "            outputs  = model(b_input_ids, \n",
    "#                            token_type_ids=None, \n",
    "                             attention_mask = b_masks,\n",
    "                            labels=b_labels)\n",
    "          \n",
    "            loss = outputs[0]  \n",
    "            \n",
    "        batch_loss = loss.item()\n",
    "        total_eval_loss += batch_loss        \n",
    "\n",
    "    avg_val_loss = total_eval_loss / len(validation_dataloader)\n",
    "    \n",
    "    validation_time = format_time(time.time() - t0)    \n",
    "\n",
    "    print(\"  Validation Loss: {0:.2f}\".format(avg_val_loss))\n",
    "    print(\"  Validation took: {:}\".format(validation_time))\n",
    "\n",
    "    # Record all statistics from this epoch.\n",
    "    training_stats.append(\n",
    "        {\n",
    "            'epoch': epoch_i + 1,\n",
    "            'Training Loss': avg_train_loss,\n",
    "            'Valid. Loss': avg_val_loss,\n",
    "            'Training Time': training_time,\n",
    "            'Validation Time': validation_time\n",
    "        }\n",
    "    )\n",
    "\n",
    "print(\"\")\n",
    "print(\"Training complete!\")\n",
    "print(\"Total training took {:} (h:mm:ss)\".format(format_time(time.time()-total_t0)))"
   ]
  },
  {
   "cell_type": "markdown",
   "id": "5d29c28d",
   "metadata": {},
   "source": [
    "The increasing validation loss shows that the model is overfitting to the training data. Although the model is getting better at predicting the training data but cannot generalize well to the new data, which is the validation data.\n",
    "The reason is model is too complex, and it is able to learn the noise in the training data as well, which is not present in the validation data. We need more data for that. Let's see if we can improve it or not?!</p>\n",
    "(P.S. I have tried this configuration with full dataset and the results were satisfying. Since it was supposed to be small notebook, I shortened the dataset from 600.000 questions to less than 5500 samples.)"
   ]
  },
  {
   "cell_type": "code",
   "execution_count": null,
   "id": "b3b081ac",
   "metadata": {
    "scrolled": true
   },
   "outputs": [],
   "source": [
    "# Display floats with two decimal places.\n",
    "pd.set_option('precision', 2)\n",
    "\n",
    "# Create a DataFrame from our training statistics.\n",
    "df_stats = pd.DataFrame(data=training_stats)\n",
    "\n",
    "# Use the 'epoch' as the row index.\n",
    "df_stats = df_stats.set_index('epoch')\n",
    "\n",
    "# Display the table.\n",
    "df_stats"
   ]
  },
  {
   "cell_type": "code",
   "execution_count": null,
   "id": "ccb9e90a",
   "metadata": {},
   "outputs": [],
   "source": [
    "# Use plot styling from seaborn.\n",
    "sns.set(style='darkgrid')\n",
    "\n",
    "# Set the plot size and font size.\n",
    "sns.set(font_scale=1.5)\n",
    "plt.rcParams[\"figure.figsize\"] = (12,6)\n",
    "\n",
    "# Plot the learning curve.\n",
    "plt.plot(df_stats['Training Loss'], 'b-o', label=\"Training\")\n",
    "plt.plot(df_stats['Valid. Loss'], 'g-o', label=\"Validation\")\n",
    "\n",
    "# Label the plot.\n",
    "plt.title(\"Training & Validation Loss\")\n",
    "plt.xlabel(\"Epoch\")\n",
    "plt.ylabel(\"Loss\")\n",
    "plt.legend()\n",
    "plt.xticks([1, 2, 3, 4])\n",
    "\n",
    "plt.show()"
   ]
  },
  {
   "cell_type": "code",
   "execution_count": null,
   "id": "2d0fc956",
   "metadata": {},
   "outputs": [],
   "source": [
    "# Retrieve a list of all the named parameters in the model\n",
    "params = list(model.named_parameters())\n",
    "\n",
    "# Print the total number of named parameters in the GPT-2 model\n",
    "print('The GPT-2 model has {:} different named parameters.\\n'.format(len(params)))\n",
    "\n",
    "# Print the size of the parameters in the embedding layer\n",
    "print('==== Embedding Layer ====\\n')\n",
    "\n",
    "for p in params[0:2]:\n",
    "    print(\"{:<55} {:>12}\".format(p[0], str(tuple(p[1].size()))))\n",
    "\n",
    "# Print the size of the parameters in the first transformer block\n",
    "print('\\n==== First Transformer ====\\n')\n",
    "\n",
    "for p in params[2:14]:\n",
    "    print(\"{:<55} {:>12}\".format(p[0], str(tuple(p[1].size()))))\n",
    "\n",
    "# Print the size of the parameters in the output layer\n",
    "print('\\n==== Output Layer ====\\n')\n",
    "\n",
    "for p in params[-2:]:\n",
    "    print(\"{:<55} {:>12}\".format(p[0], str(tuple(p[1].size()))))"
   ]
  },
  {
   "cell_type": "code",
   "execution_count": null,
   "id": "c716d5e4",
   "metadata": {},
   "outputs": [],
   "source": [
    "# Sets the directory to which the trained model will be saved\n",
    "output_dir = './models'\n",
    "\n",
    "# If the directory does not exist, it is created\n",
    "if not os.path.exists(output_dir):\n",
    "    os.makedirs(output_dir)\n",
    "\n",
    "#Prints the directory where the model will be saved\n",
    "print(\"Saving model to %s\" % output_dir)\n",
    "\n",
    "# This line ensures that the correct model is saved even if the code is running in a distributed/parallel environment\n",
    "model_to_save = model.module if hasattr(model, 'module') else model  # Take care of distributed/parallel training\n",
    "# Saves the trained model to the specified directory\n",
    "model_to_save.save_pretrained(output_dir)"
   ]
  },
  {
   "cell_type": "code",
   "execution_count": null,
   "id": "ad0732d8",
   "metadata": {},
   "outputs": [],
   "source": [
    "export_path = './models'\n",
    "torch.save(model, f'{export_path}/gpt2_v2.pt')\n",
    "tokenizer.save_pretrained(export_path)"
   ]
  },
  {
   "cell_type": "code",
   "execution_count": null,
   "id": "a2b6b44d",
   "metadata": {
    "scrolled": true
   },
   "outputs": [],
   "source": [
    "# This cell is just written for those who wants to adjust the number of responses and see the result for just one question \n",
    "model.eval()\n",
    "input_prompt = \"How to draw a circle\"\n",
    "\n",
    "prompt = f\"\\n<|startoftext|>[WP] {input_prompt} \\n[RESPONSE]\"\n",
    "\n",
    "# The input prompt is tokenized and converted to a tensor, which is then sent to the GPU.\n",
    "generated = torch.tensor(tokenizer.encode(prompt)).unsqueeze(0)\n",
    "generated = generated.to(device)\n",
    "\n",
    "# Generates 3 responses to a given input prompt using a pre-trained language model.\n",
    "sample_outputs = model.generate(\n",
    "                                generated, \n",
    "                                do_sample=True,   \n",
    "                                top_k=50, \n",
    "                                max_length = 512,\n",
    "                                top_p=0.95, \n",
    "                                num_return_sequences=3\n",
    "                                )"
   ]
  },
  {
   "cell_type": "code",
   "execution_count": null,
   "id": "01cb8afb",
   "metadata": {},
   "outputs": [],
   "source": [
    "test_df = pd.read_csv('data_test.csv')\n",
    "test_df.head(5)"
   ]
  },
  {
   "cell_type": "code",
   "execution_count": null,
   "id": "1b00e2f0",
   "metadata": {},
   "outputs": [],
   "source": [
    "# Generates the answer for the data test.\n",
    "model.eval()\n",
    "def generate_ans(question: str):\n",
    "    responses = []\n",
    "    input_prompt = question\n",
    "    prompt = f\"\\n<|startoftext|>[WP] {input_prompt} \\n[RESPONSE]\"\n",
    "\n",
    "    generated = torch.tensor(tokenizer.encode(prompt)).unsqueeze(0)\n",
    "    generated = generated.to(device)\n",
    "\n",
    "    sample_outputs = model.generate(\n",
    "                                    generated, \n",
    "                                    do_sample=True,   \n",
    "                                    top_k=50, \n",
    "                                    max_length = 512,\n",
    "                                    top_p=0.95, \n",
    "                                    num_return_sequences=2\n",
    "                                    )\n",
    "    for i, sample_output in enumerate(sample_outputs):\n",
    "        response_text = tokenizer.decode(sample_output, skip_special_tokens=True)\n",
    "        wp_responses = re.split(r\"\\[WP\\].*?\\n|\\[RESPONSE\\]\", response_text)[1:]\n",
    "        new_list = [elem for elem in wp_responses if elem != '']\n",
    "        responses.append(new_list[0])\n",
    "    return responses"
   ]
  },
  {
   "cell_type": "code",
   "execution_count": null,
   "id": "da9ec703",
   "metadata": {
    "scrolled": true
   },
   "outputs": [],
   "source": [
    "# Creates two arrays and store the first answer to answers1 and second answer for each question to answers2\n",
    "import re\n",
    "from tqdm import tqdm\n",
    "answers1 = []\n",
    "answers2 = []\n",
    "for _, row in tqdm(test_df.iterrows()):\n",
    "    _, question, _ = row\n",
    "    answer_gpt = generate_ans(question)\n",
    "    answers1.append(answer_gpt[0])\n",
    "    answers2.append(answer_gpt[1])\n"
   ]
  },
  {
   "cell_type": "markdown",
   "id": "48a1ec35",
   "metadata": {},
   "source": [
    "BERTScore metric for evaluating the quality of generated text.It takes two lists of strings, `cands` and `refs`, where cands contains the generated text and refs contains the reference or ground-truth text. It returns three tensors: P, R, and F1, where P is precision, R is recall, and F1 is the harmonic mean of precision and recall. Each tensor has the same shape as the input cands and refs."
   ]
  },
  {
   "cell_type": "code",
   "execution_count": null,
   "id": "cccb5f62",
   "metadata": {
    "scrolled": true
   },
   "outputs": [],
   "source": [
    "# Evaluate the generated answers\n",
    "import bert_score\n",
    "from evaluate import load\n",
    "bertscore = load('bertscore')\n",
    "\n",
    "bertscore_gpt2 = bertscore.compute(predictions=answers1, \n",
    "                                           references=test_df['answer'].to_list(), \n",
    "                                           lang='en')['f1']\n",
    "bertscore_gpt_2 = bertscore.compute(predictions=answers2, \n",
    "                                           references=test_df['answer'].to_list(), \n",
    "                                           lang='en')['f1']"
   ]
  },
  {
   "cell_type": "code",
   "execution_count": null,
   "id": "f48bea8c",
   "metadata": {},
   "outputs": [],
   "source": [
    "bertscore_gpt2"
   ]
  },
  {
   "cell_type": "code",
   "execution_count": null,
   "id": "1a88555f",
   "metadata": {},
   "outputs": [],
   "source": [
    "# Save the generated answers and their scores   \n",
    "test_df['first_gpt2_answer'] = answers1\n",
    "test_df['second_gpt2_answer'] = answers2\n",
    "\n",
    "test_df['bert_score_first_gpt2'] = bertscore_gpt2\n",
    "test_df['bert_score_second_gpt2'] = bertscore_gpt_2"
   ]
  },
  {
   "cell_type": "code",
   "execution_count": null,
   "id": "0145cd8b",
   "metadata": {
    "scrolled": true
   },
   "outputs": [],
   "source": [
    "test_df.head(5)"
   ]
  },
  {
   "cell_type": "code",
   "execution_count": null,
   "id": "2bdb6e9d",
   "metadata": {},
   "outputs": [],
   "source": [
    "np.mean(test_df['bert_score_first_gpt2'])"
   ]
  },
  {
   "cell_type": "code",
   "execution_count": null,
   "id": "bdaf92d2",
   "metadata": {},
   "outputs": [],
   "source": [
    "np.mean(test_df['bert_score_second_gpt2'])"
   ]
  },
  {
   "cell_type": "code",
   "execution_count": null,
   "id": "9d97f425",
   "metadata": {},
   "outputs": [],
   "source": [
    "test_df.to_csv('./data/eval_results.csv', index=False)"
   ]
  },
  {
   "cell_type": "code",
   "execution_count": null,
   "id": "fd3aea8e",
   "metadata": {
    "scrolled": true
   },
   "outputs": [],
   "source": [
    "results_df = pd.read_csv('./data/eval_results.csv')\n",
    "results_df.head(20)"
   ]
  },
  {
   "cell_type": "code",
   "execution_count": null,
   "id": "76076274",
   "metadata": {},
   "outputs": [],
   "source": [
    "# creates a dataset dictionary containing training examples and labels for a binary classification task. \n",
    "# The goal of the classification task is to predict which of two generated responses is \n",
    "# better in terms of BERTScore.\n",
    "dataset = {}\n",
    "for _, row in results_df.iterrows():\n",
    "    _, _,_, answers1, answers2, bertscore_gpt2, bertscore_gpt2_2 = row\n",
    "    if bertscore_gpt2 > bertscore_gpt2_2:\n",
    "        dataset[answers1] = 1\n",
    "        dataset[answers2] = 0\n",
    "    elif bertscore_gpt2 < bertscore_gpt2_2:\n",
    "        dataset[answers1] = 0\n",
    "        dataset[answers2] = 1\n",
    "    else:\n",
    "        len_1 = len(answers1)\n",
    "        len_2 = len(answers2)\n",
    "        if len_1 < len_2:\n",
    "            dataset[answers1] = 1\n",
    "            dataset[answers2] = 0\n",
    "        elif len_1 > len_2:\n",
    "            dataset[answers1] = 0\n",
    "            dataset[answers2] = 1\n",
    "        else:\n",
    "            dataset[answers1] = 1\n",
    "            dataset[answers2] = 0"
   ]
  },
  {
   "cell_type": "code",
   "execution_count": null,
   "id": "3d7c91d5",
   "metadata": {},
   "outputs": [],
   "source": [
    "clf_dataset = pd.DataFrame(list(dataset.items()), columns=['response', 'label'])\n",
    "clf_dataset.head()"
   ]
  },
  {
   "cell_type": "code",
   "execution_count": null,
   "id": "939a4a47",
   "metadata": {},
   "outputs": [],
   "source": [
    "clf_dataset.count()"
   ]
  },
  {
   "cell_type": "code",
   "execution_count": null,
   "id": "1dc5694e",
   "metadata": {},
   "outputs": [],
   "source": [
    "clf_dataset = clf_dataset.sample(frac=1).reset_index(drop=True)\n",
    "clf_dataset.to_csv('./data/clf_dataset.csv', index=False)"
   ]
  },
  {
   "cell_type": "code",
   "execution_count": null,
   "id": "46ceca08",
   "metadata": {},
   "outputs": [],
   "source": [
    "from transformers import BertForSequenceClassification\n",
    "from transformers import TrainingArguments\n",
    "from transformers import BertTokenizerFast\n",
    "from datasets import load_dataset\n",
    "from transformers import pipeline\n",
    "from transformers import set_seed\n",
    "from transformers import Trainer\n",
    "from datasets import DatasetDict\n",
    "import transformers\n",
    "import numpy as np\n",
    "import datasets\n",
    "import logging \n",
    "import torch\n",
    "import os"
   ]
  },
  {
   "cell_type": "code",
   "execution_count": null,
   "id": "4ed1aa1f",
   "metadata": {},
   "outputs": [],
   "source": [
    "N_GPUS = 1\n",
    "TRAIN_EPOCHS = 2\n",
    "TRAIN_BATCH_SIZE = 8\n",
    "EVAL_BATCH_SIZE = 8\n",
    "MAX_LEN = 128\n",
    "LOGGING_STEPS = 64\n",
    "SAVE_STEPS = 10240  # reduce it to a smaler value like 512 if you want to save checkpoints\n",
    "SAVE_TOTAL_LIMIT = 2\n",
    "\n",
    "set_seed(123)"
   ]
  },
  {
   "cell_type": "code",
   "execution_count": null,
   "id": "b981bd3b",
   "metadata": {
    "scrolled": true
   },
   "outputs": [],
   "source": [
    "# creates an instance of the BertForSequenceClassification class from the Hugging Face Transformers library.\n",
    "model = BertForSequenceClassification.from_pretrained('bert-base-uncased', num_labels=2,  force_download=True)"
   ]
  },
  {
   "cell_type": "code",
   "execution_count": null,
   "id": "62f7dba7",
   "metadata": {},
   "outputs": [],
   "source": [
    "tokenizer = BertTokenizerFast.from_pretrained('bert-base-uncased')"
   ]
  },
  {
   "cell_type": "code",
   "execution_count": null,
   "id": "4b78dd52",
   "metadata": {},
   "outputs": [],
   "source": [
    "data = load_dataset('csv', \n",
    "                     data_files='./data/clf_dataset.csv', \n",
    "                     delimiter=',', \n",
    "                     split='train', \n",
    "                     cache_dir='/tmp/cache')"
   ]
  },
  {
   "cell_type": "code",
   "execution_count": null,
   "id": "94d145cd",
   "metadata": {},
   "outputs": [],
   "source": [
    "train_validation_test = data.train_test_split(shuffle=True, seed=123, test_size=0.1)\n",
    "data_splits = DatasetDict({'train': train_validation_test['train'],  \n",
    "                           'validation': train_validation_test['test']})"
   ]
  },
  {
   "cell_type": "code",
   "execution_count": null,
   "id": "06ea87cc",
   "metadata": {},
   "outputs": [],
   "source": [
    "def preprocess_function(examples):\n",
    "    return tokenizer(examples['response'], truncation=True, padding=True)"
   ]
  },
  {
   "cell_type": "code",
   "execution_count": null,
   "id": "3bb1c338",
   "metadata": {},
   "outputs": [],
   "source": [
    "# Tokenize datasets \n",
    "num_proc = int(os.cpu_count()/N_GPUS)\n",
    "tokenized_data = data_splits.map(preprocess_function, batched=True, num_proc=num_proc)"
   ]
  },
  {
   "cell_type": "markdown",
   "id": "c28fa717",
   "metadata": {},
   "source": [
    "# Finetune\n",
    "Define training hyperparameters"
   ]
  },
  {
   "cell_type": "code",
   "execution_count": null,
   "id": "45c70802",
   "metadata": {},
   "outputs": [],
   "source": [
    "# Set various training parameters such as the number of training epochs, batch size, and logging options.\n",
    "training_args = TrainingArguments(output_dir='./model', \n",
    "                                  overwrite_output_dir=True, \n",
    "                                  num_train_epochs=10,  \n",
    "                                  optim='adamw_torch', \n",
    "                                  save_strategy='steps', \n",
    "                                  evaluation_strategy='epoch',\n",
    "                                  per_device_train_batch_size=TRAIN_BATCH_SIZE, \n",
    "                                  per_device_eval_batch_size=EVAL_BATCH_SIZE, \n",
    "                                  warmup_steps=10, \n",
    "                                  weight_decay=0.01,\n",
    "                                  logging_steps=LOGGING_STEPS,\n",
    "                                  save_steps=SAVE_STEPS, \n",
    "                                  save_total_limit=SAVE_TOTAL_LIMIT,\n",
    "                                  logging_dir='logs')"
   ]
  },
  {
   "cell_type": "markdown",
   "id": "77771316",
   "metadata": {},
   "source": [
    "### Training\n",
    "P.S: Since our dataset is small it has overfits"
   ]
  },
  {
   "cell_type": "code",
   "execution_count": null,
   "id": "c6ef9f3c",
   "metadata": {
    "scrolled": true
   },
   "outputs": [],
   "source": [
    "trainer = Trainer(model=model, \n",
    "                  args=training_args, \n",
    "                  train_dataset=tokenized_data['train'], \n",
    "                  eval_dataset=tokenized_data['validation'], \n",
    "                  tokenizer=tokenizer)\n",
    "\n",
    "trainer.train()"
   ]
  },
  {
   "cell_type": "code",
   "execution_count": null,
   "id": "7a7863de",
   "metadata": {},
   "outputs": [],
   "source": [
    "from trl import AutoModelForCausalLMWithValueHead\n",
    "from transformers import GPT2Tokenizer\n",
    "from transformers import set_seed\n",
    "from datasets import load_dataset\n",
    "from transformers import pipeline\n",
    "from datasets import Dataset\n",
    "from random import choices\n",
    "from trl import PPOTrainer\n",
    "from trl import PPOConfig\n",
    "from evaluate import load\n",
    "from tqdm import tqdm\n",
    "import transformers \n",
    "import pandas as pd\n",
    "import numpy as np\n",
    "import bert_score\n",
    "import ipywidgets\n",
    "import datasets\n",
    "import evaluate\n",
    "import logging\n",
    "import jupyter\n",
    "import random\n",
    "import torch\n",
    "import wandb\n",
    "import time\n",
    "import trl\n",
    "import os"
   ]
  },
  {
   "cell_type": "code",
   "execution_count": null,
   "id": "61fc4b1e",
   "metadata": {},
   "outputs": [],
   "source": [
    "pd.options.display.max_colwidth = None\n",
    "np.random.seed(123)\n",
    "tqdm.pandas()\n",
    "set_seed(123)"
   ]
  },
  {
   "cell_type": "code",
   "execution_count": null,
   "id": "25cc2e44",
   "metadata": {},
   "outputs": [],
   "source": [
    "!wandb login ee62107bfb3cfc4fb4a7087e8b9761437363721d"
   ]
  },
  {
   "cell_type": "markdown",
   "id": "be933cd3",
   "metadata": {},
   "source": [
    "### PPO\n",
    "Defining a configuration object for the Proximal Policy Optimization (PPO) algorithm"
   ]
  },
  {
   "cell_type": "code",
   "execution_count": null,
   "id": "4a418b7d",
   "metadata": {},
   "outputs": [],
   "source": [
    "config = PPOConfig(model_name='./model/finetuned', \n",
    "                   batch_size=4,\n",
    "                   learning_rate=1.41e-6,\n",
    "                   forward_batch_size=4, # This parameter is useful when using large models that don't fit into memory.\n",
    "                   remove_unused_columns=False, # All columns in the input data will be used during training.\n",
    "                   log_with='wandb'# For logging training metrics\n",
    "                  )"
   ]
  },
  {
   "cell_type": "code",
   "execution_count": null,
   "id": "7b0f5fbd",
   "metadata": {
    "scrolled": true
   },
   "outputs": [],
   "source": [
    "# Provides an interface for using pre-trained models for language modeling. \n",
    "# This class can generate sequences of text based on a given prompt.\n",
    "# two pre-trained language models, loaded from the specified directories, \n",
    "# which will be used as the \"actor\" and \"critic\" in the PPO algorithm.\n",
    "# Note: for further improvement, we can use answer1 and create model and answer2 \n",
    "# and create another model and use them as actor critic. since the data is not big enough it is not a good idea\n",
    "active_model = AutoModelForCausalLMWithValueHead.from_pretrained('./models')\n",
    "ref_model = AutoModelForCausalLMWithValueHead.from_pretrained('./models')"
   ]
  },
  {
   "cell_type": "code",
   "execution_count": null,
   "id": "973b8b24",
   "metadata": {},
   "outputs": [],
   "source": [
    "dataset = load_dataset('csv', \n",
    "                       data_files='./data_test.csv',  \n",
    "                       delimiter=',', \n",
    "                       split='train[:100%]',\n",
    "                       download_mode='force_redownload')\n",
    "dataset"
   ]
  },
  {
   "cell_type": "code",
   "execution_count": null,
   "id": "ccb12bb1",
   "metadata": {},
   "outputs": [],
   "source": [
    "def tokenize(samples: list):\n",
    "    questions = samples['question']\n",
    "    ground_truth = samples['answer']\n",
    "    \n",
    "    input_ids = []\n",
    "    query = []\n",
    "    \n",
    "    for question in questions:\n",
    "        prompted_input = f'question: {question}\\nanswer:'\n",
    "        query.append(prompted_input)\n",
    "        tokenized_input = tokenizer(prompted_input, \n",
    "                                    truncation=True)\n",
    "        input_ids.append(torch.tensor(tokenized_input['input_ids'], dtype=torch.long))\n",
    "        \n",
    "    return {'input_ids': input_ids, 'query': query, 'ground_truth': ground_truth, 'questions': questions}"
   ]
  },
  {
   "cell_type": "code",
   "execution_count": null,
   "id": "29e0bef6",
   "metadata": {},
   "outputs": [],
   "source": [
    "dataset = dataset.map(tokenize, \n",
    "                      batched=True, \n",
    "                      #num_proc=num_proc, \n",
    "                      load_from_cache_file=False, \n",
    "                      remove_columns=['question', 'answer'])\n",
    "dataset.set_format('pt', \n",
    "                   columns=['input_ids', 'query', 'ground_truth'],\n",
    "                   output_all_columns=True)\n",
    "dataset"
   ]
  },
  {
   "cell_type": "code",
   "execution_count": null,
   "id": "b282cb99",
   "metadata": {},
   "outputs": [],
   "source": [
    "def collator(dataset):\n",
    "    result = {}\n",
    "    for key in dataset[0]:\n",
    "        values = []\n",
    "        for d in dataset:\n",
    "            values.append(d[key])\n",
    "        result[key] = values\n",
    "    return result"
   ]
  },
  {
   "cell_type": "code",
   "execution_count": null,
   "id": "d7b586cd",
   "metadata": {},
   "outputs": [],
   "source": [
    "device = torch.device('cuda' if torch.cuda.is_available() else 'cpu')"
   ]
  },
  {
   "cell_type": "code",
   "execution_count": null,
   "id": "997b4eb6",
   "metadata": {},
   "outputs": [],
   "source": [
    "# creates an instance of the PPOTrainer class\n",
    "ppo_trainer = PPOTrainer(config, active_model, ref_model, tokenizer, dataset=dataset, data_collator=collator)"
   ]
  },
  {
   "cell_type": "markdown",
   "id": "1549a52d",
   "metadata": {},
   "source": [
    "pipeline: a high-level API provided by the transformers library, which makes it easy to use pre-trained models for a variety of natural language processing tasks, including text generation."
   ]
  },
  {
   "cell_type": "code",
   "execution_count": null,
   "id": "b3daa291",
   "metadata": {
    "scrolled": true
   },
   "outputs": [],
   "source": [
    "bert_pipe = pipeline('text-generation', \n",
    "                     model='./models',\n",
    "                    max_length = MAX_LEN)"
   ]
  },
  {
   "cell_type": "code",
   "execution_count": null,
   "id": "640c966c",
   "metadata": {},
   "outputs": [],
   "source": [
    "import json\n",
    "prompt = \"How can I sum two integers in python?\"\n",
    "output = bert_pipe(prompt, max_length=512, num_return_sequences=1)\n",
    "output = output[0]['generated_text']\n",
    "response_text = output.split('[RESPONSE]')[1]\n",
    "formatted_text = \"```\\n\" + response_text + \"\\n```\"\n",
    "print(formatted_text)"
   ]
  },
  {
   "cell_type": "markdown",
   "id": "b684e4ec",
   "metadata": {},
   "source": [
    "Tadda!! our model can now write quite reasonable python code! Enjoy :-)\n",
    "\n",
    "You can improve this by Just defining two models and use PPO trainer based on that. this way the model will be able to improve itself by comparing two responses and produce better results. "
   ]
  },
  {
   "cell_type": "code",
   "execution_count": null,
   "id": "e4139fd8",
   "metadata": {},
   "outputs": [],
   "source": []
  }
 ],
 "metadata": {
  "kernelspec": {
   "display_name": "cuda_tf2",
   "language": "python",
   "name": "cuda_tf2"
  },
  "language_info": {
   "codemirror_mode": {
    "name": "ipython",
    "version": 3
   },
   "file_extension": ".py",
   "mimetype": "text/x-python",
   "name": "python",
   "nbconvert_exporter": "python",
   "pygments_lexer": "ipython3",
   "version": "3.7.15"
  }
 },
 "nbformat": 4,
 "nbformat_minor": 5
}
